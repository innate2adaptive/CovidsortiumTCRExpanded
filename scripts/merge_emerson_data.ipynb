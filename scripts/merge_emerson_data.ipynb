{
 "cells": [
  {
   "cell_type": "code",
   "execution_count": 1,
   "metadata": {},
   "outputs": [],
   "source": [
    "import pandas as pd\n",
    "import os"
   ]
  },
  {
   "cell_type": "code",
   "execution_count": 2,
   "metadata": {},
   "outputs": [],
   "source": [
    "# f = '/media/marti/DATA/emerson/'\n",
    "# os.listdir(f)"
   ]
  },
  {
   "cell_type": "code",
   "execution_count": 3,
   "metadata": {},
   "outputs": [],
   "source": [
    "# for i, filename in enumerate(os.listdir(f)):\n",
    "#     print(i, filename)\n",
    "#     X = pd.read_csv(f + filename, sep='\\t', usecols=['frame_type', 'amino_acid','v_gene','j_gene', 'rearrangement_type'])\n",
    "#     X1 = X.loc[X['frame_type'] == 'In'].copy()\n",
    "#     X1['counts'] = ''\n",
    "#     X2 = X1[['amino_acid','v_gene','j_gene', 'counts']].groupby(['amino_acid','v_gene','j_gene']).count().reset_index()\n",
    "#     X2['filename'] = filename.split('.tsv')[0]\n",
    "#     print(X.shape[0], X1.shape[0], X2.shape[0])\n",
    "#     if i == 0:\n",
    "#         X2.to_csv('../data/output_data/emerson_counts.csv.gz', index=False)    \n",
    "#     else:\n",
    "#         X2.to_csv('../data/output_data/emerson_counts.csv.gz', mode = 'a', index=False, header=False)\n"
   ]
  },
  {
   "cell_type": "code",
   "execution_count": 4,
   "metadata": {},
   "outputs": [],
   "source": [
    "DF = pd.read_csv('../data/output_data/emerson_counts.csv.gz')"
   ]
  },
  {
   "cell_type": "code",
   "execution_count": 5,
   "metadata": {},
   "outputs": [],
   "source": [
    "DF1 = DF.drop('counts', axis=1).groupby(by=['amino_acid', 'v_gene', 'j_gene']).count().reset_index()"
   ]
  },
  {
   "cell_type": "code",
   "execution_count": 6,
   "metadata": {},
   "outputs": [
    {
     "name": "stdout",
     "output_type": "stream",
     "text": [
      "(103107163, 4)\n",
      "(81474795, 4)\n"
     ]
    }
   ],
   "source": [
    "print(DF1.shape)\n",
    "DF2 = DF1.loc[(DF1['v_gene'] != 'unresolved') & (DF1['j_gene'] != 'unresolved')]\n",
    "print(DF2.shape)"
   ]
  },
  {
   "cell_type": "code",
   "execution_count": 7,
   "metadata": {},
   "outputs": [
    {
     "name": "stderr",
     "output_type": "stream",
     "text": [
      "/tmp/ipykernel_981087/563431674.py:1: SettingWithCopyWarning: \n",
      "A value is trying to be set on a copy of a slice from a DataFrame.\n",
      "Try using .loc[row_indexer,col_indexer] = value instead\n",
      "\n",
      "See the caveats in the documentation: https://pandas.pydata.org/pandas-docs/stable/user_guide/indexing.html#returning-a-view-versus-a-copy\n",
      "  DF2['v_gene'] = DF2['v_gene'].str.replace('TCRB', 'TRB', regex=True)\n"
     ]
    },
    {
     "name": "stdout",
     "output_type": "stream",
     "text": [
      "['TRBV03-01' 'TRBV19-01' 'TRBV29-01' 'TRBV07-04' 'TRBV02-01' 'TRBV21-01'\n",
      " 'TRBV06-07' 'TRBV20-01' 'TRBV06-04' 'TRBV06-01' 'TRBV13-01' 'TRBV18-01'\n",
      " 'TRBV30-01' 'TRBV10-01' 'TRBV07-08' 'TRBV01-01' 'TRBV05-01' 'TRBV11-03'\n",
      " 'TRBV25-01' 'TRBV06-05' 'TRBV12-05' 'TRBV07-05' 'TRBV10-03' 'TRBV28-01'\n",
      " 'TRBV05-03' 'TRBV05-04' 'TRBV07-02' 'TRBV27-01' 'TRBV07-03' 'TRBV07-09'\n",
      " 'TRBV15-01' 'TRBV09-01' 'TRBV23-01' 'TRBV05-06' 'TRBV11-02' 'TRBV12-02'\n",
      " 'TRBV07-06' 'TRBV04-01' 'TRBV04-03' 'TRBV04-02' 'TRBV06-06' 'TRBV14-01'\n",
      " 'TRBV10-02' 'TRBV07-07' 'TRBV17-01' 'TRBV05-08' 'TRBV06-09' 'TRBV11-01'\n",
      " 'TRBV12-01' 'TRBV03-02' 'TRBV05-05' 'TRBVA-or09_02' 'TRBV05-07'\n",
      " 'TRBV16-01' 'TRBV06-08' 'TRBV08-02' 'TRBV05-02' 'TRBV25-or09_02'\n",
      " 'TRBV21-or09_02' 'TRBV07-01' 'TRBV26-or09_02' 'TRBV26-01'\n",
      " 'TRBV23-or09_02' 'TRBV20-or09_02' 'TRBV29-or09_02' 'TRBV22-01'\n",
      " 'TRBV22-or09_02']\n"
     ]
    }
   ],
   "source": [
    "DF2['v_gene'] = DF2['v_gene'].str.replace('TCRB', 'TRB', regex=True)\n",
    "print(DF2['v_gene'].unique())"
   ]
  },
  {
   "cell_type": "code",
   "execution_count": 8,
   "metadata": {},
   "outputs": [
    {
     "name": "stderr",
     "output_type": "stream",
     "text": [
      "/tmp/ipykernel_981087/3454937360.py:1: SettingWithCopyWarning: \n",
      "A value is trying to be set on a copy of a slice from a DataFrame.\n",
      "Try using .loc[row_indexer,col_indexer] = value instead\n",
      "\n",
      "See the caveats in the documentation: https://pandas.pydata.org/pandas-docs/stable/user_guide/indexing.html#returning-a-view-versus-a-copy\n",
      "  DF2['j_gene'] = DF2['j_gene'].str.replace('TCRB', 'TRB', regex=True)\n"
     ]
    },
    {
     "name": "stdout",
     "output_type": "stream",
     "text": [
      "['TRBJ02-07' 'TRBJ01-04' 'TRBJ01-01' 'TRBJ02-05' 'TRBJ01-05' 'TRBJ01-03'\n",
      " 'TRBJ02-02' 'TRBJ01-06' 'TRBJ01-02' 'TRBJ02-03' 'TRBJ02-01' 'TRBJ02-04'\n",
      " 'TRBJ02-06']\n"
     ]
    }
   ],
   "source": [
    "DF2['j_gene'] = DF2['j_gene'].str.replace('TCRB', 'TRB', regex=True)\n",
    "print(DF2['j_gene'].unique())"
   ]
  },
  {
   "cell_type": "code",
   "execution_count": 10,
   "metadata": {},
   "outputs": [],
   "source": [
    "import tidytcells as tt"
   ]
  },
  {
   "cell_type": "code",
   "execution_count": 11,
   "metadata": {},
   "outputs": [
    {
     "name": "stderr",
     "output_type": "stream",
     "text": [
      "/home/marti/miniconda3/envs/mm/lib/python3.10/site-packages/tidytcells/_utils/warnings.py:10: UserWarning: Failed to standardise: \"TRBV19-01\" for species homosapiens. Attempted fix \"TRBV19-1\" did not meet the standardised format requirements. Ignoring this gene name...\n",
      "  warn(\n",
      "/home/marti/miniconda3/envs/mm/lib/python3.10/site-packages/tidytcells/_utils/warnings.py:10: UserWarning: Failed to standardise: \"TRBV02-01\" for species homosapiens. Attempted fix \"TRBV2-1\" did not meet the standardised format requirements. Ignoring this gene name...\n",
      "  warn(\n",
      "/home/marti/miniconda3/envs/mm/lib/python3.10/site-packages/tidytcells/_utils/warnings.py:10: UserWarning: Failed to standardise: \"TRBV13-01\" for species homosapiens. Attempted fix \"TRBV13-1\" did not meet the standardised format requirements. Ignoring this gene name...\n",
      "  warn(\n",
      "/home/marti/miniconda3/envs/mm/lib/python3.10/site-packages/tidytcells/_utils/warnings.py:10: UserWarning: Failed to standardise: \"TRBV18-01\" for species homosapiens. Attempted fix \"TRBV18-1\" did not meet the standardised format requirements. Ignoring this gene name...\n",
      "  warn(\n",
      "/home/marti/miniconda3/envs/mm/lib/python3.10/site-packages/tidytcells/_utils/warnings.py:10: UserWarning: Failed to standardise: \"TRBV30-01\" for species homosapiens. Attempted fix \"TRBV30-1\" did not meet the standardised format requirements. Ignoring this gene name...\n",
      "  warn(\n",
      "/home/marti/miniconda3/envs/mm/lib/python3.10/site-packages/tidytcells/_utils/warnings.py:10: UserWarning: Failed to standardise: \"TRBV01-01\" for species homosapiens. Attempted fix \"TRBV1-1\" did not meet the standardised format requirements. Ignoring this gene name...\n",
      "  warn(\n",
      "/home/marti/miniconda3/envs/mm/lib/python3.10/site-packages/tidytcells/_utils/warnings.py:10: UserWarning: Failed to standardise: \"TRBV28-01\" for species homosapiens. Attempted fix \"TRBV28-1\" did not meet the standardised format requirements. Ignoring this gene name...\n",
      "  warn(\n",
      "/home/marti/miniconda3/envs/mm/lib/python3.10/site-packages/tidytcells/_utils/warnings.py:10: UserWarning: Failed to standardise: \"TRBV27-01\" for species homosapiens. Attempted fix \"TRBV27-1\" did not meet the standardised format requirements. Ignoring this gene name...\n",
      "  warn(\n",
      "/home/marti/miniconda3/envs/mm/lib/python3.10/site-packages/tidytcells/_utils/warnings.py:10: UserWarning: Failed to standardise: \"TRBV15-01\" for species homosapiens. Attempted fix \"TRBV15-1\" did not meet the standardised format requirements. Ignoring this gene name...\n",
      "  warn(\n",
      "/home/marti/miniconda3/envs/mm/lib/python3.10/site-packages/tidytcells/_utils/warnings.py:10: UserWarning: Failed to standardise: \"TRBV09-01\" for species homosapiens. Attempted fix \"TRBV9-1\" did not meet the standardised format requirements. Ignoring this gene name...\n",
      "  warn(\n",
      "/home/marti/miniconda3/envs/mm/lib/python3.10/site-packages/tidytcells/_utils/warnings.py:10: UserWarning: Failed to standardise: \"TRBV14-01\" for species homosapiens. Attempted fix \"TRBV14-1\" did not meet the standardised format requirements. Ignoring this gene name...\n",
      "  warn(\n",
      "/home/marti/miniconda3/envs/mm/lib/python3.10/site-packages/tidytcells/_utils/warnings.py:10: UserWarning: Failed to standardise: \"TRBV17-01\" for species homosapiens. Attempted fix \"TRBV17-1\" did not meet the standardised format requirements. Ignoring this gene name...\n",
      "  warn(\n",
      "/home/marti/miniconda3/envs/mm/lib/python3.10/site-packages/tidytcells/_utils/warnings.py:10: UserWarning: Failed to standardise: \"TRBVA-or09_02\" for species homosapiens. Attempted fix \"TRBVA-/OR9\" did not meet the standardised format requirements. Ignoring this gene name...\n",
      "  warn(\n",
      "/home/marti/miniconda3/envs/mm/lib/python3.10/site-packages/tidytcells/_utils/warnings.py:10: UserWarning: Failed to standardise: \"TRBV16-01\" for species homosapiens. Attempted fix \"TRBV16-1\" did not meet the standardised format requirements. Ignoring this gene name...\n",
      "  warn(\n",
      "/home/marti/miniconda3/envs/mm/lib/python3.10/site-packages/tidytcells/_utils/warnings.py:10: UserWarning: Failed to standardise: \"TRBV25-or09_02\" for species homosapiens. Attempted fix \"TRBV25-/OR9\" did not meet the standardised format requirements. Ignoring this gene name...\n",
      "  warn(\n",
      "/home/marti/miniconda3/envs/mm/lib/python3.10/site-packages/tidytcells/_utils/warnings.py:10: UserWarning: Failed to standardise: \"TRBV21-or09_02\" for species homosapiens. Attempted fix \"TRBV21-/OR9\" did not meet the standardised format requirements. Ignoring this gene name...\n",
      "  warn(\n",
      "/home/marti/miniconda3/envs/mm/lib/python3.10/site-packages/tidytcells/_utils/warnings.py:10: UserWarning: Failed to standardise: \"TRBV26-or09_02\" for species homosapiens. Attempted fix \"TRBV26-/OR9\" did not meet the standardised format requirements. Ignoring this gene name...\n",
      "  warn(\n",
      "/home/marti/miniconda3/envs/mm/lib/python3.10/site-packages/tidytcells/_utils/warnings.py:10: UserWarning: Failed to standardise: \"TRBV26-01\" for species homosapiens. Attempted fix \"TRBV26-1\" did not meet the standardised format requirements. Ignoring this gene name...\n",
      "  warn(\n",
      "/home/marti/miniconda3/envs/mm/lib/python3.10/site-packages/tidytcells/_utils/warnings.py:10: UserWarning: Failed to standardise: \"TRBV23-or09_02\" for species homosapiens. Attempted fix \"TRBV23-/OR9\" did not meet the standardised format requirements. Ignoring this gene name...\n",
      "  warn(\n",
      "/home/marti/miniconda3/envs/mm/lib/python3.10/site-packages/tidytcells/_utils/warnings.py:10: UserWarning: Failed to standardise: \"TRBV20-or09_02\" for species homosapiens. Attempted fix \"TRBV20-/OR9\" did not meet the standardised format requirements. Ignoring this gene name...\n",
      "  warn(\n",
      "/home/marti/miniconda3/envs/mm/lib/python3.10/site-packages/tidytcells/_utils/warnings.py:10: UserWarning: Failed to standardise: \"TRBV29-or09_02\" for species homosapiens. Attempted fix \"TRBV29-/OR9\" did not meet the standardised format requirements. Ignoring this gene name...\n",
      "  warn(\n",
      "/home/marti/miniconda3/envs/mm/lib/python3.10/site-packages/tidytcells/_utils/warnings.py:10: UserWarning: Failed to standardise: \"TRBV22-or09_02\" for species homosapiens. Attempted fix \"TRBV22-/OR9\" did not meet the standardised format requirements. Ignoring this gene name...\n",
      "  warn(\n"
     ]
    },
    {
     "name": "stdout",
     "output_type": "stream",
     "text": [
      "['TRBV3-1' None 'TRBV29-1' 'TRBV7-4' 'TRBV21-1' 'TRBV6-7' 'TRBV20-1'\n",
      " 'TRBV6-4' 'TRBV6-1' 'TRBV10-1' 'TRBV7-8' 'TRBV5-1' 'TRBV11-3' 'TRBV25-1'\n",
      " 'TRBV6-5' 'TRBV12-5' 'TRBV7-5' 'TRBV10-3' 'TRBV5-3' 'TRBV5-4' 'TRBV7-2'\n",
      " 'TRBV7-3' 'TRBV7-9' 'TRBV23-1' 'TRBV5-6' 'TRBV11-2' 'TRBV12-2' 'TRBV7-6'\n",
      " 'TRBV4-1' 'TRBV4-3' 'TRBV4-2' 'TRBV6-6' 'TRBV10-2' 'TRBV7-7' 'TRBV5-8'\n",
      " 'TRBV6-9' 'TRBV11-1' 'TRBV12-1' 'TRBV3-2' 'TRBV5-5' 'TRBV5-7' 'TRBV6-8'\n",
      " 'TRBV8-2' 'TRBV5-2' 'TRBV7-1' 'TRBV22-1']\n"
     ]
    }
   ],
   "source": [
    "cleaned = DF2.copy()\n",
    "cleaned[['v_gene', 'j_gene']] = cleaned[['v_gene', 'j_gene']].applymap(\n",
    "                                                                    lambda x: tt.tcr.standardise(\n",
    "                                                                        gene=x,\n",
    "                                                                        species=\"homosapiens\",\n",
    "                                                                        precision=\"gene\"\n",
    "                                                                    ))\n",
    "print(cleaned['v_gene'].unique())"
   ]
  },
  {
   "cell_type": "code",
   "execution_count": 12,
   "metadata": {},
   "outputs": [
    {
     "name": "stdout",
     "output_type": "stream",
     "text": [
      "(81474795, 4)\n",
      "(51495598, 4)\n"
     ]
    }
   ],
   "source": [
    "print(cleaned.shape)\n",
    "cleaned1 = cleaned.loc[pd.notna(cleaned['v_gene']) & pd.notna(cleaned['j_gene'])]\n",
    "print(cleaned1.shape)"
   ]
  },
  {
   "cell_type": "code",
   "execution_count": 16,
   "metadata": {},
   "outputs": [
    {
     "name": "stdout",
     "output_type": "stream",
     "text": [
      "        amino_acid    v_gene   j_gene  filename\n",
      "0                A   TRBV3-1  TRBJ2-7         5\n",
      "5                A  TRBV29-1  TRBJ2-7         1\n",
      "8            AAAFF   TRBV7-4  TRBJ1-1         1\n",
      "14  AAAMNLATNEKLFF  TRBV21-1  TRBJ1-4         1\n",
      "16      AAASNQPQHF   TRBV6-7  TRBJ1-5         1\n"
     ]
    }
   ],
   "source": [
    "print(cleaned1.head())"
   ]
  },
  {
   "cell_type": "code",
   "execution_count": 17,
   "metadata": {},
   "outputs": [],
   "source": [
    "cleaned1.to_csv('../data/output_data/emerson_publicity_counts.csv.gz')"
   ]
  },
  {
   "attachments": {},
   "cell_type": "markdown",
   "metadata": {},
   "source": [
    "Code below runs out of memory"
   ]
  },
  {
   "cell_type": "code",
   "execution_count": null,
   "metadata": {},
   "outputs": [],
   "source": [
    "# def load_df(mypath):\n",
    "#     chunksize = 1000000\n",
    "\n",
    "#     # the list that contains all the dataframes\n",
    "#     DF = pd.DataFrame()\n",
    "\n",
    "#     for df in pd.read_csv(mypath, chunksize=chunksize, usecols=['amino_acid', 'v_gene', 'j_gene', 'filename']):\n",
    "#         # df.loc[pd.isna(df['correct']), 'correct'] = ''\n",
    "#         # df = df.pivot_table(values='counts', columns='filename', index=['amino_acid', 'v_gene', 'j_gene']).fillna(0).reset_index()\n",
    "#         # DF = pd.concat([DF, df])\n",
    "#         # DF = DF.groupby(by=['amino_acid', 'v_gene', 'j_gene']).agg(sum).reset_index()\n",
    "#         # print(DF.head())\n",
    "#         df = df.groupby(by=['amino_acid', 'v_gene', 'j_gene']).count().reset_index()\n",
    "#         DF = pd.concat([DF, df])\n",
    "#         DF = DF.groupby(by=['amino_acid', 'v_gene', 'j_gene']).agg(sum).reset_index()\n",
    "#     return(DF)"
   ]
  },
  {
   "cell_type": "code",
   "execution_count": null,
   "metadata": {},
   "outputs": [],
   "source": [
    "# print('...and grouping')\n",
    "# tcr_counts = load_df('../data/output_data/emerson_counts.csv.gz')\n",
    "# print(tcr_counts)"
   ]
  },
  {
   "cell_type": "code",
   "execution_count": null,
   "metadata": {},
   "outputs": [],
   "source": [
    "# tcr_counts.reset_index()"
   ]
  },
  {
   "cell_type": "code",
   "execution_count": null,
   "metadata": {},
   "outputs": [],
   "source": [
    "# tcr_counts1 = tcr_counts.pivot_table(values='counts', columns='filename', index=['amino_acid', 'v_gene', 'j_gene']).fillna(0).reset_index()"
   ]
  },
  {
   "cell_type": "code",
   "execution_count": null,
   "metadata": {},
   "outputs": [],
   "source": [
    "# tcr_counts1.to_csv('../data/output_data/emerson_counts_wide.csv.gz')"
   ]
  }
 ],
 "metadata": {
  "kernelspec": {
   "display_name": "Python 3",
   "language": "python",
   "name": "python3"
  },
  "language_info": {
   "codemirror_mode": {
    "name": "ipython",
    "version": 3
   },
   "file_extension": ".py",
   "mimetype": "text/x-python",
   "name": "python",
   "nbconvert_exporter": "python",
   "pygments_lexer": "ipython3",
   "version": "3.10.9"
  },
  "orig_nbformat": 4
 },
 "nbformat": 4,
 "nbformat_minor": 2
}
